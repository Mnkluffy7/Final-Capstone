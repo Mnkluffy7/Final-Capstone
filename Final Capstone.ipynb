{
    "cells": [
        {
            "cell_type": "markdown",
            "metadata": {
                "collapsed": true
            },
            "source": "# Coursera Capstone Project"
        },
        {
            "cell_type": "markdown",
            "metadata": {},
            "source": "# IBM Applied Data Science Capstone Project"
        },
        {
            "cell_type": "markdown",
            "metadata": {},
            "source": "# Finding the best spot to open a bar using machine learning techniques in New York"
        },
        {
            "cell_type": "markdown",
            "metadata": {},
            "source": "#### by Andreas Makris (https://github.com/Mnkluffy7/Final-Capstone)"
        },
        {
            "cell_type": "markdown",
            "metadata": {},
            "source": "## 1.2 Introduction"
        },
        {
            "cell_type": "markdown",
            "metadata": {},
            "source": "As more and more companies gather around big cities around the world, people prefer living in towns as they can find easily a job. This results in towns have an increasingly high number of people where smaller towns left with more sparse population. New York as an example of a crowded city has a lot of people living as also working there.\n\nIt is not a secret that after a hard day at work finding the best place to relax is mandatory. One of the way is return back to home safety and relax. The other one is finding a table with a cold alcohol drink. Opening a bar may seem easy to everyone but in fact it is not. People would recommend an bar in the city center after work rather than a bar located in the suburbs. However as stated in the beggining the number of people living in New York is increasing year by year. More people means more shops, cars, supermarket, etc so it would be needed for more shops, bars, schools or any other facility to be created in order to support the need.\n\nToday with the techological development and with all the data collected it is easier to make decisions for things that would take longer to decide. A machine learning algorithm can decide (depends on the actual size of the dataset) if a building is better to be build under a specific area, if a person is sick or not even if the content of a tweet indicates that a person is angry, happy or sad about something. Machine learning can be applied in every area as long as we have a lot of data to support the machine learning algorithm. For the purpose of this report we will try to find the best place to open a bar in the city of New York. \n\n\n"
        },
        {
            "cell_type": "markdown",
            "metadata": {},
            "source": "## 1.2 Business Problem "
        },
        {
            "cell_type": "markdown",
            "metadata": {},
            "source": "As stated above the purpose of this capstone project is to find the most suitabble place for a stakeholder to open a bar in New York. By using machine learning techniques such as clustering this project aims to provide solution to the business question: \" Where is the best place if anyone wants to open a bar in New York city?\""
        },
        {
            "cell_type": "markdown",
            "metadata": {},
            "source": "## 1.3 Target Audience"
        },
        {
            "cell_type": "markdown",
            "metadata": {},
            "source": "The target audience would be any stakeholder that is willing to start business in New York by opening a bar."
        },
        {
            "cell_type": "markdown",
            "metadata": {},
            "source": "## 2 Data"
        },
        {
            "cell_type": "markdown",
            "metadata": {},
            "source": "To solve this problem I will need data:\n\n- Locations of neighborhoods of New York\n- Longtitude and Latitude of these neighborhoods\n- Venue data related to bars. This will help us determine the most suitable place to open a bar\n\n"
        },
        {
            "cell_type": "markdown",
            "metadata": {},
            "source": "## 3. Extracting data "
        },
        {
            "cell_type": "markdown",
            "metadata": {},
            "source": "- Scrapping of New York neighborhoods via Wikipedia\n- Use Geocoder package to obtain longtitude and latitude of these neighborhoods\n- By using the Foursquare API we will collect all the venue data related to these neighborhoods"
        },
        {
            "cell_type": "markdown",
            "metadata": {},
            "source": ""
        }
    ],
    "metadata": {
        "kernelspec": {
            "display_name": "Python 3.6",
            "language": "python",
            "name": "python3"
        },
        "language_info": {
            "codemirror_mode": {
                "name": "ipython",
                "version": 3
            },
            "file_extension": ".py",
            "mimetype": "text/x-python",
            "name": "python",
            "nbconvert_exporter": "python",
            "pygments_lexer": "ipython3",
            "version": "3.6.9"
        }
    },
    "nbformat": 4,
    "nbformat_minor": 1
}