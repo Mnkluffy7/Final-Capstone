{
    "cells": [
        {
            "cell_type": "markdown",
            "metadata": {
                "collapsed": true
            },
            "source": "# Coursera Capstone Project"
        },
        {
            "cell_type": "markdown",
            "metadata": {},
            "source": "# IBM Applied Data Science Capstone Project"
        },
        {
            "cell_type": "markdown",
            "metadata": {},
            "source": "# Finding the best spot to open a bar using machine learning techniques in Toronto "
        },
        {
            "cell_type": "markdown",
            "metadata": {},
            "source": "#### \nby Andreas Makris ( "
        },
        {
            "cell_type": "markdown",
            "metadata": {},
            "source": ""
        }
    ],
    "metadata": {
        "kernelspec": {
            "display_name": "Python 3.6",
            "language": "python",
            "name": "python3"
        },
        "language_info": {
            "codemirror_mode": {
                "name": "ipython",
                "version": 3
            },
            "file_extension": ".py",
            "mimetype": "text/x-python",
            "name": "python",
            "nbconvert_exporter": "python",
            "pygments_lexer": "ipython3",
            "version": "3.6.9"
        }
    },
    "nbformat": 4,
    "nbformat_minor": 1
}